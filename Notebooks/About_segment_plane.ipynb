{
 "cells": [
  {
   "cell_type": "code",
   "execution_count": 1,
   "id": "d9531760",
   "metadata": {},
   "outputs": [
    {
     "name": "stdout",
     "output_type": "stream",
     "text": [
      "Jupyter environment detected. Enabling Open3D WebVisualizer.\n",
      "[Open3D INFO] WebRTC GUI backend enabled.\n",
      "[Open3D INFO] WebRTCWindowSystem: HTTP handshake server disabled.\n"
     ]
    }
   ],
   "source": [
    "import open3d as o3d"
   ]
  },
  {
   "cell_type": "markdown",
   "id": "ed3112e8",
   "metadata": {},
   "source": [
    "# Составляющие функции segment_plane из документации"
   ]
  },
  {
   "cell_type": "code",
   "execution_count": 4,
   "id": "73397be5",
   "metadata": {},
   "outputs": [],
   "source": [
    "path_to_pcd_file = \"path/to/some/pcd/file\""
   ]
  },
  {
   "cell_type": "code",
   "execution_count": null,
   "id": "735e29a8",
   "metadata": {},
   "outputs": [],
   "source": [
    "# Читаем файл\n",
    "pcd = o3d.io.read_point_cloud(path_to_pcd_file)"
   ]
  },
  {
   "cell_type": "code",
   "execution_count": null,
   "id": "44ccf7c0",
   "metadata": {},
   "outputs": [],
   "source": [
    "# distance_threshold - Максимальное расстояние, на котором точка может находиться от модели плоскости, на котором она\n",
    "# еще считается inlier\n",
    "# ransac_n - Количество начальных точек, которые будут учитываться при каждой итерации. \n",
    "# num_iterations - Количество итераций выбора случайных плоскостей\n",
    "# returns: Tuple[numpy.ndarray[numpy.float64[4, 1]], List[int]]\n",
    "# где numpy.ndarray[numpy.float64[4, 1]] - лучшая плоскость полученная за num_iterations итераций\n",
    "# List[int] - индексы inlier точек для этой плоскости\n",
    "plane_model, inliers = pcd.segment_plane(distance_threshold=0.1,\n",
    "                                         ransac_n=3,\n",
    "                                         num_iterations=5000)"
   ]
  },
  {
   "cell_type": "code",
   "execution_count": null,
   "id": "8fadf1d4",
   "metadata": {},
   "outputs": [],
   "source": [
    "[a, b, c, d] = plane_model\n",
    "print(f\"Plane equation: {a:.2f}x + {b:.2f}y + {c:.2f}z + {d:.2f} = 0\")"
   ]
  },
  {
   "cell_type": "code",
   "execution_count": null,
   "id": "331ba49e",
   "metadata": {},
   "outputs": [],
   "source": [
    "# Выбираем те точки из поинт клауда, которые считаются внутренними для найденной плокости(по индексам)\n",
    "inlier_cloud = pcd.select_by_index(inliers)"
   ]
  },
  {
   "cell_type": "code",
   "execution_count": null,
   "id": "70e13884",
   "metadata": {},
   "outputs": [],
   "source": [
    "# Окрашиваем inlier точки в LGBT цвета\n",
    "inlier_cloud.paint_uniform_color([1.0, 0, 0])"
   ]
  },
  {
   "cell_type": "code",
   "execution_count": null,
   "id": "23d7aa24",
   "metadata": {},
   "outputs": [],
   "source": [
    "# Выбираем те точки из поинт клауда, которые считаются внешними для найденной плокости(по инвертированным индексам)\n",
    "outlier_cloud = pcd.select_by_index(inliers, invert=True)"
   ]
  },
  {
   "cell_type": "code",
   "execution_count": null,
   "id": "61fe425b",
   "metadata": {},
   "outputs": [],
   "source": [
    "# Рисуем то, что у нас получилось\n",
    "o3d.visualization.draw_geometries([inlier_cloud])"
   ]
  }
 ],
 "metadata": {
  "kernelspec": {
   "display_name": "Python 3",
   "language": "python",
   "name": "python3"
  },
  "language_info": {
   "codemirror_mode": {
    "name": "ipython",
    "version": 3
   },
   "file_extension": ".py",
   "mimetype": "text/x-python",
   "name": "python",
   "nbconvert_exporter": "python",
   "pygments_lexer": "ipython3",
   "version": "3.6.9"
  }
 },
 "nbformat": 4,
 "nbformat_minor": 5
}
