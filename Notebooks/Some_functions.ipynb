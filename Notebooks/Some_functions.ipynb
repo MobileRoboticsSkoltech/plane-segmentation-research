{
 "cells": [
  {
   "cell_type": "markdown",
   "id": "3a4f4a83",
   "metadata": {},
   "source": [
    "# Наработки"
   ]
  },
  {
   "cell_type": "code",
   "execution_count": 1,
   "id": "5692fb38",
   "metadata": {
    "scrolled": true
   },
   "outputs": [
    {
     "name": "stdout",
     "output_type": "stream",
     "text": [
      "Jupyter environment detected. Enabling Open3D WebVisualizer.\n",
      "[Open3D INFO] WebRTC GUI backend enabled.\n",
      "[Open3D INFO] WebRTCWindowSystem: HTTP handshake server disabled.\n"
     ]
    }
   ],
   "source": [
    "import open3d as o3d\n",
    "import numpy as np"
   ]
  },
  {
   "cell_type": "code",
   "execution_count": 19,
   "id": "b30f4d96",
   "metadata": {},
   "outputs": [],
   "source": [
    "def convert_from_bin_to_pcd(path_to_binary_file : str, path_to_new_pcd_file : str):\n",
    "    bin_pcd = np.fromfile(path_to_binary_file, dtype=np.float32)\n",
    "    points = bin_pcd.reshape((-1, 4))[:, 0:3]\n",
    "    o3d_pcd = o3d.geometry.PointCloud(o3d.utility.Vector3dVector(points))\n",
    "    o3d.io.write_point_cloud(path_to_new_pcd_file, o3d_pcd)"
   ]
  },
  {
   "cell_type": "code",
   "execution_count": 20,
   "id": "5e8b883b",
   "metadata": {},
   "outputs": [],
   "source": [
    "def convert_from_pcd_to_ply(path_to_pcd_file : str, path_to_new_ply_file : str):\n",
    "    pcd = o3d.io.read_point_cloud(path_to_pcd_file)\n",
    "    o3d.io.write_point_cloud(path_to_new_ply_file, pcd)"
   ]
  },
  {
   "cell_type": "code",
   "execution_count": 21,
   "id": "b1d58b4d",
   "metadata": {},
   "outputs": [],
   "source": [
    "def scan_next_plane_from_point_cloud(point_cloud : o3d.geometry.PointCloud, distance : float = 0.1):\n",
    "    try:\n",
    "        _, inliers = point_cloud.segment_plane(distance_threshold=distance,\n",
    "                                             ransac_n=3,\n",
    "                                             num_iterations=5000)\n",
    "    except Exception:\n",
    "        return (point_cloud, point_cloud.clear())\n",
    "    inlier_cloud = point_cloud.select_by_index(inliers)\n",
    "    inlier_cloud.paint_uniform_color([1.0, 0, 0])\n",
    "    outlier_cloud = point_cloud.select_by_index(inliers, invert=True)\n",
    "    return (inlier_cloud, outlier_cloud)"
   ]
  },
  {
   "cell_type": "code",
   "execution_count": 22,
   "id": "3b755364",
   "metadata": {},
   "outputs": [],
   "source": [
    "def select_points_by_label_id(path_to_pcd_file : str, path_to_label_file : str, label_id : int) -> o3d.geometry.PointCloud:\n",
    "    pcd = o3d.io.read_point_cloud(path_to_pcd_file)\n",
    "\n",
    "    labels = np.fromfile(path_to_label_file, dtype=np.uint32)\n",
    "    labels = labels.reshape((-1))\n",
    "    \n",
    "    pcd_point_by_id = pcd.select_by_index(np.where(labels == label_id)[0])\n",
    "    \n",
    "    return pcd_point_by_id"
   ]
  },
  {
   "cell_type": "code",
   "execution_count": 23,
   "id": "ec2ee5c8",
   "metadata": {},
   "outputs": [],
   "source": [
    "def segment_all_planes_from_point_cloud(point_cloud : o3d.geometry.PointCloud) -> list:\n",
    "    all_planes = []\n",
    "    inlier_cloud, outlier_cloud = scan_next_plane_from_point_cloud(point_cloud)\n",
    "    while outlier_cloud.has_points():\n",
    "        all_planes.append(inlier_cloud)\n",
    "        inlier_cloud, outlier_cloud = scan_next_plane_from_point_cloud(outlier_cloud)\n",
    "    if (inlier_cloud.has_points()): all_planes.append(inlier_cloud)\n",
    "    \n",
    "    return all_planes"
   ]
  },
  {
   "cell_type": "code",
   "execution_count": 24,
   "id": "4aee0939",
   "metadata": {},
   "outputs": [],
   "source": [
    "def segment_all_planes_by_list_of_labels(path_to_pcd_file : str, path_to_label_file : str, list_of_labels : list) -> dict:\n",
    "    result_dict = {}\n",
    "    for label in list_of_labels:\n",
    "        point_cloud = select_points_by_label_id(path_to_pcd_file, path_to_label_file, label)\n",
    "        planes = extract_all_planes_from_point_cloud(point_cloud)\n",
    "        result_dict[label] = planes\n",
    "    \n",
    "    return result_dict"
   ]
  },
  {
   "cell_type": "code",
   "execution_count": 25,
   "id": "23cd30a3",
   "metadata": {},
   "outputs": [],
   "source": [
    "path_to_bin_file = \"/home/pavel/dataset/sequences/00/velodyne/000000.bin\"\n",
    "path_to_pcd_file = \"/home/pavel/Point-Cloud/src/test.pcd\"\n",
    "path_to_label_file = \"/home/pavel/dataset/sequences/00/labels/000000.label\""
   ]
  },
  {
   "cell_type": "code",
   "execution_count": 26,
   "id": "df7c7aa9",
   "metadata": {},
   "outputs": [],
   "source": [
    "BUILDING_LABEL = 50\n",
    "OTHER_STRUCTURE_LABEL = 52\n",
    "ROAD_LABEL = 40\n",
    "list_of_planes = [BUILDING_LABEL, OTHER_STRUCTURE_LABEL, ROAD_LABEL]"
   ]
  },
  {
   "cell_type": "code",
   "execution_count": 27,
   "id": "071f357e",
   "metadata": {},
   "outputs": [],
   "source": [
    "segmented_planes = segment_all_planes_by_list_of_labels(path_to_pcd_file, path_to_label_file, list_of_planes)"
   ]
  },
  {
   "cell_type": "code",
   "execution_count": 28,
   "id": "4622eb78",
   "metadata": {},
   "outputs": [
    {
     "data": {
      "text/plain": [
       "3"
      ]
     },
     "execution_count": 28,
     "metadata": {},
     "output_type": "execute_result"
    }
   ],
   "source": [
    "len(segmented_planes)"
   ]
  }
 ],
 "metadata": {
  "kernelspec": {
   "display_name": "Python 3",
   "language": "python",
   "name": "python3"
  },
  "language_info": {
   "codemirror_mode": {
    "name": "ipython",
    "version": 3
   },
   "file_extension": ".py",
   "mimetype": "text/x-python",
   "name": "python",
   "nbconvert_exporter": "python",
   "pygments_lexer": "ipython3",
   "version": "3.6.9"
  }
 },
 "nbformat": 4,
 "nbformat_minor": 5
}
