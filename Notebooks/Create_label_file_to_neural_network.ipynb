{
 "cells": [
  {
   "cell_type": "code",
   "execution_count": 1,
   "id": "4516fbc3",
   "metadata": {},
   "outputs": [],
   "source": [
    "import open3d as o3d\n",
    "import numpy as np"
   ]
  },
  {
   "cell_type": "code",
   "execution_count": 110,
   "id": "48b8e990",
   "metadata": {},
   "outputs": [],
   "source": [
    "def get_point_cloud_from_bin_file(path_to_bin_file : str) -> o3d.geometry.PointCloud:\n",
    "    '''\n",
    "    Function allows you to get a point cloud from a file with lidar data \n",
    "    '''\n",
    "    point_cloud_np = np.fromfile(path_to_bin_file, dtype=np.float32).reshape(-1, 4)[:, :3]\n",
    "    point_cloud = o3d.geometry.PointCloud()\n",
    "    point_cloud.points = o3d.utility.Vector3dVector(point_cloud_np[:, :3])\n",
    "    return point_cloud"
   ]
  },
  {
   "cell_type": "code",
   "execution_count": 111,
   "id": "033837bf",
   "metadata": {},
   "outputs": [],
   "source": [
    "def convert_point_cloud_to_numpy_array(point_cloud : o3d.geometry.PointCloud) -> np.ndarray:\n",
    "    '''\n",
    "    Function converts a point cloud to numpy array\n",
    "    '''\n",
    "    return np.asarray(point_cloud.points)"
   ]
  },
  {
   "cell_type": "code",
   "execution_count": 112,
   "id": "3f856cd3",
   "metadata": {},
   "outputs": [],
   "source": [
    "def convert_numpy_to_point_cloud(numpy_array : np.ndarray) -> o3d.geometry.PointCloud:\n",
    "    '''\n",
    "    Function converts numpy array to a point cloud \n",
    "    '''\n",
    "    pcd = o3d.geometry.PointCloud()\n",
    "    pcd.points = o3d.utility.Vector3dVector(numpy_array)\n",
    "    return pcd"
   ]
  },
  {
   "cell_type": "code",
   "execution_count": 113,
   "id": "a804776b",
   "metadata": {},
   "outputs": [],
   "source": [
    "def select_points_from_point_cloud_by_label_id(point_cloud : o3d.geometry.PointCloud, path_to_label_file : str, label_id : int) -> o3d.geometry.PointCloud:\n",
    "    '''\n",
    "    Function allows you to leave points in the point cloud by label \n",
    "    '''\n",
    "    labels = np.fromfile(path_to_label_file, dtype=np.uint32)\n",
    "    labels = labels.reshape((-1))\n",
    "    pcd_point_by_id = point_cloud.select_by_index(np.where(labels == label_id)[0])\n",
    "    return pcd_point_by_id"
   ]
  },
  {
   "cell_type": "code",
   "execution_count": 114,
   "id": "942afa93",
   "metadata": {},
   "outputs": [],
   "source": [
    "def create_point_cloud_by_label_list(point_cloud : o3d.geometry.PointCloud, path_to_label_file : str, label_list : list) -> o3d.geometry.PointCloud:\n",
    "    '''\n",
    "    Function allows you to get points with the labels that we need \n",
    "    '''\n",
    "    numpy_arr = np.empty((0,3), float)\n",
    "    for label in label_list:\n",
    "        current_point_cloud = select_points_from_point_cloud_by_label_id(point_cloud, path_to_label_file, label)\n",
    "        converted_to_numpy_point_cloud = convert_point_cloud_to_numpy_array(current_point_cloud)\n",
    "        numpy_arr = np.append(numpy_arr, converted_to_numpy_point_cloud, axis=0)\n",
    "    return convert_numpy_to_point_cloud(numpy_arr)"
   ]
  },
  {
   "cell_type": "code",
   "execution_count": 147,
   "id": "234010a7",
   "metadata": {},
   "outputs": [],
   "source": [
    "def segment_plane_from_point_cloud(point_cloud : o3d.geometry.PointCloud, distance : float = 0.1) -> (o3d.geometry.PointCloud, o3d.geometry.PointCloud, list):\n",
    "    '''\n",
    "    Function allows you to extract the most visible plane from the point cloud \n",
    "    param: distance - Max distance a point can be from the plane model, and still be considered an inlier.\n",
    "    '''\n",
    "    try:\n",
    "        plane_model, inliers = point_cloud.segment_plane(distance_threshold=distance,\n",
    "                                             ransac_n=3,\n",
    "                                             num_iterations=8000)\n",
    "    except Exception:\n",
    "        return (point_cloud, point_cloud.clear(), [0, 0, 0, 0])\n",
    "    inlier_cloud = point_cloud.select_by_index(inliers)\n",
    "    outlier_cloud = point_cloud.select_by_index(inliers, invert=True)\n",
    "    return (inlier_cloud, outlier_cloud, plane_model)"
   ]
  },
  {
   "cell_type": "code",
   "execution_count": 116,
   "id": "e05131f3",
   "metadata": {},
   "outputs": [],
   "source": [
    "def get_area_of_triangle(first_point : np.ndarray, second_point : np.ndarray, third_point : np.ndarray) -> float:\n",
    "    '''\n",
    "    Get the area of a triangle using Heron's formula\n",
    "    '''\n",
    "    x1, y1, z1 = first_point\n",
    "    x2, y2, z2 = second_point\n",
    "    x3, y3, z3 = third_point\n",
    "    \n",
    "    l1 = math.sqrt((x1 - x2)**2 + (y1 - y2)**2 + (z1 - z2)**2)\n",
    "    l2 = math.sqrt((x2 - x3)**2 + (y2 - y3)**2 + (z2 - z3)**2)\n",
    "    l3 = math.sqrt((x3 - x1)**2 + (y3 - y1)**2 + (z3 - z1)**2)\n",
    "    \n",
    "    p = (l1 + l2 + l3)/2\n",
    "    area = math.sqrt(p * (p - l1) * (p - l2) * (p - l3))\n",
    "    \n",
    "    return area"
   ]
  },
  {
   "cell_type": "code",
   "execution_count": 117,
   "id": "ee41553c",
   "metadata": {},
   "outputs": [],
   "source": [
    "def get_combination(n, k):\n",
    "    '''\n",
    "    Get combinations \n",
    "    '''\n",
    "    d = list(range(0, k))\n",
    "    yield d\n",
    "    while True:\n",
    "        i = k - 1\n",
    "        while i >= 0 and d[i] + k - i + 1 > n:\n",
    "            i -= 1\n",
    "        if i < 0:\n",
    "            return\n",
    "        d[i] += 1\n",
    "        for j in range(i + 1, k):\n",
    "            d[j] = d[j - 1] + 1\n",
    "        yield d"
   ]
  },
  {
   "cell_type": "code",
   "execution_count": 145,
   "id": "2c5d59ff",
   "metadata": {},
   "outputs": [],
   "source": [
    "def get_area_of_plane(plane_model : list, np_array : np.ndarray) -> float:\n",
    "    '''\n",
    "    The function finds the minimum and approximate area of the current plane \n",
    "    '''\n",
    "    min_value = check(plane_model, np_array) * 10\n",
    "    points = get_points(plane_model, np_array, min_value)\n",
    "    \n",
    "    if len(points) < 3:\n",
    "        return 0\n",
    "    \n",
    "    result_area = 0\n",
    "    \n",
    "    for combination in get_combination(len(points), 3):\n",
    "        first_point = points[combination[0]]\n",
    "        second_point = points[combination[1]]\n",
    "        third_point = points[combination[2]]\n",
    "        \n",
    "        current_area = get_S_triangle(first_point, second_point, third_point)\n",
    "        \n",
    "        if current_area > result_area: result_area = current_area\n",
    "    \n",
    "    return result_area"
   ]
  },
  {
   "cell_type": "code",
   "execution_count": 131,
   "id": "5a0641c4",
   "metadata": {},
   "outputs": [],
   "source": [
    "def segment_all_planes_from_point_cloud(point_cloud : o3d.geometry.PointCloud, min_count_of_points : int, min_area_of_plane : int, distance : float = 0.1) -> list:\n",
    "    '''\n",
    "    Function allows you to get all planes from a given point cloud \n",
    "    param: distance - Max distance a point can be from the plane model, and still be considered an inlier.\n",
    "    '''\n",
    "    all_planes = []\n",
    "    inlier_cloud, outlier_cloud, plane_model = segment_plane_from_point_cloud(point_cloud, distance)\n",
    "    while outlier_cloud.has_points():\n",
    "        if len(convert_point_cloud_to_numpy_array(inlier_cloud)) > min_count_of_points and get_area_of_plane(plane_model, convert_point_cloud_to_numpy_array(inlier_cloud)) > min_area_of_plane:\n",
    "            all_planes.append(inlier_cloud)\n",
    "        inlier_cloud, outlier_cloud, plane_model = segment_plane_from_point_cloud(outlier_cloud, distance)\n",
    "    if inlier_cloud.has_points() and len(convert_point_cloud_to_numpy_array(inlier_cloud)) > min_count_of_points and get_area_of_plane(plane_model, convert_point_cloud_to_numpy_array(inlier_cloud)) > min_area_of_plane: all_planes.append(inlier_cloud)\n",
    "    \n",
    "    return all_planes"
   ]
  },
  {
   "cell_type": "code",
   "execution_count": 120,
   "id": "7f7af9ec",
   "metadata": {},
   "outputs": [],
   "source": [
    "def create_dictionary_of_point_cloud(point_cloud : o3d.geometry.PointCloud) -> dict:\n",
    "    '''\n",
    "    Function returns a dictionary of points, with which you can get indices faster \n",
    "    '''\n",
    "    result_dictionary = {}\n",
    "    numpy_main_point_cloud = convert_point_cloud_to_numpy_array(point_cloud)\n",
    "    \n",
    "    for idx, point in enumerate(numpy_main_point_cloud):\n",
    "        triple = (point[0], point[1], point[2])\n",
    "        result_dictionary[triple] = idx\n",
    "        \n",
    "    return result_dictionary"
   ]
  },
  {
   "cell_type": "code",
   "execution_count": 121,
   "id": "1e620a64",
   "metadata": {},
   "outputs": [],
   "source": [
    "def get_indexes_of_points(current_dict : dict, temp_point_cloud : np.ndarray) -> list:\n",
    "    '''\n",
    "    Function finds the indices of the required points \n",
    "    '''\n",
    "    index_list = []\n",
    "    for point in temp_point_cloud:\n",
    "        triple = (point[0], point[1], point[2])\n",
    "        index_list.append(current_dict[triple])\n",
    "    return index_list"
   ]
  },
  {
   "cell_type": "code",
   "execution_count": 122,
   "id": "3710c23f",
   "metadata": {},
   "outputs": [],
   "source": [
    "def create_label_file(current_snapshot : str, path_to_label_file : str, label_list : list, path_to_new_label_file : str, min_count_of_points : int, min_area_of_plane : int):\n",
    "    '''\n",
    "    Function creates a file with binary labels \n",
    "    '''\n",
    "    main_point_cloud = get_point_cloud_from_bin_file(current_snapshot)\n",
    "    numpy_main_point_cloud = convert_point_cloud_to_numpy_array(main_point_cloud)\n",
    "    write_zeros_in_file(len(numpy_main_point_cloud), path_to_new_label_file)\n",
    "    current_dict = create_dictionary_of_point_cloud(main_point_cloud)\n",
    "    current_point_cloud = create_point_cloud_by_label_list(main_point_cloud, path_to_label_file, label_list)\n",
    "    planes_list = segment_all_planes_from_point_cloud(current_point_cloud, min_count_of_points, min_area_of_plane, 0.3)\n",
    "    \n",
    "    for plane in planes_list:\n",
    "        numpy_plane = convert_point_cloud_to_numpy_array(plane)\n",
    "        index_list = get_indexes_of_points(current_dict, numpy_plane)\n",
    "        write_ones_to_file_by_index_list(index_list, path_to_new_label_file)"
   ]
  },
  {
   "cell_type": "code",
   "execution_count": 123,
   "id": "47243835",
   "metadata": {},
   "outputs": [],
   "source": [
    "def main_function_to_make_label_files(path_to_data_folder : str, path_to_label_folder : str, path_to_new_label_folder : str, label_list : list, min_count_of_points : int, min_area_of_plane : int):\n",
    "    '''\n",
    "    Function for data folder and label folder creates a new label folder \n",
    "    '''\n",
    "    if not os.path.exists(path_to_data_folder):\n",
    "        raise Exception(path_to_data_folder + \" :the folder does not exist\")\n",
    "    if not os.path.exists(path_to_label_folder):\n",
    "        raise Exception(path_to_label_folder + \" :the folder does not exist\")\n",
    "    try:\n",
    "        os.mkdir(path_to_new_label_folder)\n",
    "    except FileExistsError:\n",
    "        print(\"Directory \" , path_to_new_label_folder ,  \" already exists\")\n",
    "\n",
    "    for entry in os.scandir(path_to_data_folder):\n",
    "        if entry.is_file():\n",
    "            file_index = entry.name[:-4]\n",
    "\n",
    "            current_bin_file = path_to_data_folder + file_index + \".bin\"\n",
    "            current_label_file = path_to_label_folder + file_index + \".label\"\n",
    "            current_new_label_file = path_to_new_label_folder + \"/\" + file_index + \".txt\"\n",
    "\n",
    "            create_label_file(current_bin_file, current_label_file, label_list, current_new_label_file, min_count_of_points, min_area_of_plane)"
   ]
  },
  {
   "cell_type": "code",
   "execution_count": 133,
   "id": "8a4e762e",
   "metadata": {},
   "outputs": [],
   "source": [
    "def write_zeros_in_file(count_of_points : int, path_to_new_label_file : str):\n",
    "    '''\n",
    "    Function creates the initial file \n",
    "    '''\n",
    "    with open(path_to_new_label_file, 'w') as file:\n",
    "        file.write('0\\n' * count_of_points)\n",
    "\n",
    "def write_ones_to_file_by_index_list(index_list : list, path_to_new_label_file : str):\n",
    "    '''\n",
    "    Function changes those lines in the file, the point with the index of which belongs to any plane \n",
    "    '''\n",
    "    file = open(path_to_new_label_file, 'r')\n",
    "    list_strings = file.readlines()\n",
    "    file.close()\n",
    "    for index in index_list:\n",
    "        list_strings[index] = \"1\\n\"\n",
    "    file = open(path_to_new_label_file, 'w')\n",
    "    file.writelines(list_strings)\n",
    "    file.close()"
   ]
  },
  {
   "cell_type": "code",
   "execution_count": 124,
   "id": "885f47db",
   "metadata": {},
   "outputs": [],
   "source": [
    "PATH_TO_BIN_FOLDER = \"/home/pavel/dataset/sequences/00/velodyne/\"\n",
    "PATH_TO_LABEL_FOLDER = \"/home/pavel/Downloads/dataset/sequences/00/labels/\"\n",
    "PATH_TO_NEW_LABEL_BINARY_FILE = \"/home/pavel/Documents/plane-segmentation-research/src/label000000.txt\""
   ]
  },
  {
   "cell_type": "code",
   "execution_count": 125,
   "id": "d6a1dc9b",
   "metadata": {},
   "outputs": [],
   "source": [
    "ROAD_LABEL = 40\n",
    "SIDEWALK_LABEL = 48\n",
    "PARKING_LABEL = 44\n",
    "BUILDING_LABEL = 50\n",
    "TERRAIN_LABEL = 72\n",
    "FENCE_LABEL = 51"
   ]
  },
  {
   "cell_type": "markdown",
   "id": "80b72a77",
   "metadata": {},
   "source": [
    "### Рабочий цикл по каждой карте:"
   ]
  },
  {
   "cell_type": "code",
   "execution_count": 168,
   "id": "a859a752",
   "metadata": {},
   "outputs": [],
   "source": [
    "current_map = PATH_TO_BIN_FOLDER + \"000000.bin\"\n",
    "current_label_file = PATH_TO_LABEL_FOLDER + \"000000.label\"\n",
    "COUNT_OF_POINTS = 100\n",
    "AREA_SIZE = 2"
   ]
  },
  {
   "cell_type": "code",
   "execution_count": 169,
   "id": "b63ea0ab",
   "metadata": {},
   "outputs": [],
   "source": [
    "PLANE_LIST = [ROAD_LABEL, SIDEWALK_LABEL, PARKING_LABEL, BUILDING_LABEL, TERRAIN_LABEL, FENCE_LABEL]"
   ]
  },
  {
   "cell_type": "code",
   "execution_count": 171,
   "id": "a515a3a0",
   "metadata": {},
   "outputs": [],
   "source": [
    "create_label_file(current_map, current_label_file, PLANE_LIST, PATH_TO_NEW_LABEL_BINARY_FILE, COUNT_OF_POINTS, AREA_SIZE)"
   ]
  },
  {
   "cell_type": "markdown",
   "id": "5a38aede",
   "metadata": {},
   "source": [
    "### Дальше ведется тестирование"
   ]
  },
  {
   "cell_type": "code",
   "execution_count": 161,
   "id": "d035ef4e",
   "metadata": {},
   "outputs": [],
   "source": [
    "def check_get_indexes_from_txt_file(path_to_new_label_file : str) -> list:\n",
    "    result_list = []\n",
    "    file = open(path_to_new_label_file, 'r')\n",
    "    list_strings = file.readlines()\n",
    "    file.close()\n",
    "    for idx, line in enumerate(list_strings):\n",
    "        if (line == \"1\\n\"):\n",
    "            result_list.append(idx)\n",
    "            \n",
    "    return result_list"
   ]
  },
  {
   "cell_type": "code",
   "execution_count": 172,
   "id": "5f1ea4fb",
   "metadata": {},
   "outputs": [],
   "source": [
    "main_point_cloud = get_point_cloud_from_bin_file(current_map)"
   ]
  },
  {
   "cell_type": "code",
   "execution_count": 173,
   "id": "d861a81c",
   "metadata": {},
   "outputs": [],
   "source": [
    "lst = check_get_indexes_from_txt_file(PATH_TO_NEW_LABEL_BINARY_FILE)"
   ]
  },
  {
   "cell_type": "code",
   "execution_count": 174,
   "id": "bca97b85",
   "metadata": {},
   "outputs": [],
   "source": [
    "pc = main_point_cloud.select_by_index(lst)"
   ]
  },
  {
   "cell_type": "code",
   "execution_count": 175,
   "id": "0ce4f76b",
   "metadata": {},
   "outputs": [],
   "source": [
    "outlier_cloud = main_point_cloud.select_by_index(lst, invert=True)"
   ]
  },
  {
   "cell_type": "code",
   "execution_count": 176,
   "id": "28c16296",
   "metadata": {},
   "outputs": [
    {
     "data": {
      "text/plain": [
       "PointCloud with 46691 points."
      ]
     },
     "execution_count": 176,
     "metadata": {},
     "output_type": "execute_result"
    }
   ],
   "source": [
    "outlier_cloud.paint_uniform_color([0.51, 0.51, 0.51])"
   ]
  },
  {
   "cell_type": "code",
   "execution_count": 178,
   "id": "7d32e256",
   "metadata": {},
   "outputs": [],
   "source": [
    "o3d.visualization.draw_geometries([pc, outlier_cloud])"
   ]
  }
 ],
 "metadata": {
  "kernelspec": {
   "display_name": "Python 3",
   "language": "python",
   "name": "python3"
  },
  "language_info": {
   "codemirror_mode": {
    "name": "ipython",
    "version": 3
   },
   "file_extension": ".py",
   "mimetype": "text/x-python",
   "name": "python",
   "nbconvert_exporter": "python",
   "pygments_lexer": "ipython3",
   "version": "3.6.9"
  }
 },
 "nbformat": 4,
 "nbformat_minor": 5
}
