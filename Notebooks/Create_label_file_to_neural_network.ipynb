{
 "cells": [
  {
   "cell_type": "code",
   "execution_count": 60,
   "id": "4516fbc3",
   "metadata": {},
   "outputs": [],
   "source": [
    "import open3d as o3d\n",
    "import numpy as np"
   ]
  },
  {
   "cell_type": "code",
   "execution_count": 61,
   "id": "48b8e990",
   "metadata": {},
   "outputs": [],
   "source": [
    "def convert_point_cloud_to_numpy_array(point_cloud : o3d.geometry.PointCloud) -> np.ndarray:\n",
    "    return np.asarray(point_cloud.points)"
   ]
  },
  {
   "cell_type": "code",
   "execution_count": 62,
   "id": "033837bf",
   "metadata": {},
   "outputs": [],
   "source": [
    "def convert_numpy_to_point_cloud(numpy_array : np.ndarray) -> o3d.geometry.PointCloud:\n",
    "    pcd = o3d.geometry.PointCloud()\n",
    "    pcd.points = o3d.utility.Vector3dVector(numpy_array)\n",
    "    return pcd"
   ]
  },
  {
   "cell_type": "code",
   "execution_count": 63,
   "id": "3f856cd3",
   "metadata": {},
   "outputs": [],
   "source": [
    "def write_zeros_in_file(count_of_points : int, path_to_new_label_file : str):\n",
    "    with open(path_to_new_label_file, 'w') as file:\n",
    "        file.write('0\\n' * count_of_points)"
   ]
  },
  {
   "cell_type": "code",
   "execution_count": 64,
   "id": "a804776b",
   "metadata": {},
   "outputs": [],
   "source": [
    "def select_points_from_point_cloud_by_label_id(point_cloud : o3d.geometry.PointCloud, path_to_label_file : str, label_id : int) -> o3d.geometry.PointCloud:\n",
    "    labels = np.fromfile(path_to_label_file, dtype=np.uint32)\n",
    "    labels = labels.reshape((-1))\n",
    "    pcd_point_by_id = point_cloud.select_by_index(np.where(labels == label_id)[0])\n",
    "    return pcd_point_by_id"
   ]
  },
  {
   "cell_type": "code",
   "execution_count": 65,
   "id": "942afa93",
   "metadata": {},
   "outputs": [],
   "source": [
    "def segment_plane_from_point_cloud(point_cloud : o3d.geometry.PointCloud, distance : float = 0.1) -> (o3d.geometry.PointCloud, o3d.geometry.PointCloud):\n",
    "    try:\n",
    "        _, inliers = point_cloud.segment_plane(distance_threshold=distance,\n",
    "                                             ransac_n=3,\n",
    "                                             num_iterations=5000)\n",
    "    except Exception:\n",
    "        return (point_cloud, point_cloud.clear())\n",
    "    inlier_cloud = point_cloud.select_by_index(inliers)\n",
    "    outlier_cloud = point_cloud.select_by_index(inliers, invert=True)\n",
    "    return (inlier_cloud, outlier_cloud)"
   ]
  },
  {
   "cell_type": "code",
   "execution_count": 66,
   "id": "234010a7",
   "metadata": {},
   "outputs": [],
   "source": [
    "def extract_point_cloud_from_bin_file(path_to_bin_file : str) -> o3d.geometry.PointCloud:\n",
    "    pcd_np = np.fromfile(path_to_bin_file, dtype=np.float32).reshape(-1, 4)[:, :3]\n",
    "    pcd = o3d.geometry.PointCloud()\n",
    "    pcd.points = o3d.utility.Vector3dVector(pcd_np[:, :3])\n",
    "    return pcd"
   ]
  },
  {
   "cell_type": "code",
   "execution_count": 67,
   "id": "e05131f3",
   "metadata": {},
   "outputs": [],
   "source": [
    "def create_point_cloud_by_label_list(point_cloud : o3d.geometry.PointCloud, path_to_label_file : str, label_list : list) -> o3d.geometry.PointCloud:\n",
    "    numpy_arr = np.empty((0,3), float)\n",
    "    for label in label_list:\n",
    "        current_point_cloud = select_points_from_point_cloud_by_label_id(point_cloud, path_to_label_file, label)\n",
    "        converted_to_numpy_point_cloud = convert_point_cloud_to_numpy_array(current_point_cloud)\n",
    "        numpy_arr = np.append(numpy_arr, converted_to_numpy_point_cloud, axis=0)\n",
    "    return convert_numpy_to_point_cloud(numpy_arr)"
   ]
  },
  {
   "cell_type": "code",
   "execution_count": 78,
   "id": "ee41553c",
   "metadata": {},
   "outputs": [],
   "source": [
    "def segment_all_planes_from_point_cloud(point_cloud : o3d.geometry.PointCloud) -> list:\n",
    "    all_planes = []\n",
    "    inlier_cloud, outlier_cloud = segment_plane_from_point_cloud(point_cloud, 0.3)\n",
    "    while outlier_cloud.has_points():\n",
    "        all_planes.append(inlier_cloud)\n",
    "        inlier_cloud, outlier_cloud = segment_plane_from_point_cloud(outlier_cloud, 0.3)\n",
    "    if (inlier_cloud.has_points()): all_planes.append(inlier_cloud)\n",
    "    \n",
    "    return all_planes"
   ]
  },
  {
   "cell_type": "code",
   "execution_count": 69,
   "id": "2c5d59ff",
   "metadata": {},
   "outputs": [],
   "source": [
    "def get_indexes_of_points(current_dict : dict, temp_point_cloud : np.ndarray) -> list:\n",
    "    index_list = []\n",
    "    for point in temp_point_cloud:\n",
    "        triple = (point[0], point[1], point[2])\n",
    "        index_list.append(current_dict[triple])\n",
    "    return index_list"
   ]
  },
  {
   "cell_type": "code",
   "execution_count": 80,
   "id": "5a0641c4",
   "metadata": {},
   "outputs": [],
   "source": [
    "def write_ones_to_file_by_index(index_list : list, path_to_new_label_file : str):\n",
    "    file = open(path_to_new_label_file, 'r')\n",
    "    list_strings = file.readlines()\n",
    "    file.close()\n",
    "    for index in index_list:\n",
    "        list_strings[index] = \"1\\n\"\n",
    "    file = open(path_to_new_label_file, 'w')\n",
    "    file.writelines(list_strings)\n",
    "    file.close()"
   ]
  },
  {
   "cell_type": "code",
   "execution_count": 71,
   "id": "8ec162b7",
   "metadata": {},
   "outputs": [],
   "source": [
    "def create_dict_of_point_cloud(point_cloud : o3d.geometry.PointCloud) -> dict:\n",
    "    result_dict = {}\n",
    "    numpy_main_point_cloud = convert_point_cloud_to_numpy_array(point_cloud)\n",
    "    \n",
    "    for idx, point in enumerate(numpy_main_point_cloud):\n",
    "        triple = (point[0], point[1], point[2])\n",
    "        result_dict[triple] = idx\n",
    "        \n",
    "    return result_dict"
   ]
  },
  {
   "cell_type": "code",
   "execution_count": 72,
   "id": "1e620a64",
   "metadata": {},
   "outputs": [],
   "source": [
    "def work_with_file(current_map : str, path_to_label_file : str, label_list : list, path_to_new_label_file : str):\n",
    "    main_point_cloud = extract_point_cloud_from_bin_file(current_map)\n",
    "    numpy_main_point_cloud = convert_point_cloud_to_numpy_array(main_point_cloud)\n",
    "    write_zeros_in_file(len(numpy_main_point_cloud), path_to_new_label_file)\n",
    "    current_dict = create_dict_of_point_cloud(main_point_cloud)\n",
    "    current_point_cloud = create_point_cloud_by_label_list(main_point_cloud, path_to_label_file, PLANE_LIST)\n",
    "    planes_list = segment_all_planes_from_point_cloud(current_point_cloud)\n",
    "    \n",
    "    for plane in planes_list:\n",
    "        numpy_plane = convert_point_cloud_to_numpy_array(plane)\n",
    "        index_list = get_indexes_of_points(current_dict, numpy_plane)\n",
    "        write_ones_to_file_by_index(index_list, path_to_new_label_file)"
   ]
  },
  {
   "cell_type": "code",
   "execution_count": 82,
   "id": "5d9e1b89",
   "metadata": {},
   "outputs": [],
   "source": [
    "def check_get_indexes_from_txt_file(path_to_new_label_file : str) -> list:\n",
    "    result_list = []\n",
    "    file = open(path_to_new_label_file, 'r')\n",
    "    list_strings = file.readlines()\n",
    "    file.close()\n",
    "    for idx, line in enumerate(list_strings):\n",
    "        if (line == \"1\\n\"):\n",
    "            result_list.append(idx)\n",
    "            \n",
    "    return result_list"
   ]
  },
  {
   "cell_type": "code",
   "execution_count": 73,
   "id": "885f47db",
   "metadata": {},
   "outputs": [],
   "source": [
    "PATH_TO_BIN_FOLDER = \"/home/pavel/dataset/sequences/00/velodyne/\"\n",
    "PATH_TO_LABEL_FOLDER = \"/home/pavel/Downloads/dataset/sequences/00/labels/\"\n",
    "PATH_TO_NEW_LABEL_BINARY_FILE = \"/home/pavel/Documents/plane-segmentation-research/src/label000000.txt\""
   ]
  },
  {
   "cell_type": "code",
   "execution_count": 74,
   "id": "d6a1dc9b",
   "metadata": {},
   "outputs": [],
   "source": [
    "ROAD_LABEL = 40 # - plane\n",
    "SIDEWALK_LABEL = 48 # - plane\n",
    "PARKING_LABEL = 44 # - plane\n",
    "OTHER_GROUND_LABEL = 49 # - not plane\n",
    "BUILDING_LABEL = 50 # - plane\n",
    "OTHER_STRUCTURE_LABEL = 52 # - not plane\n",
    "VEGETATION_LABEL = 70 # - not plane\n",
    "TRUNK_LABEL = 71 # - not plane\n",
    "TERRAIN_LABEL = 72 # - plane\n",
    "FENCE_LABEL = 51 # - plane"
   ]
  },
  {
   "cell_type": "markdown",
   "id": "80b72a77",
   "metadata": {},
   "source": [
    "### Рабочий цикл по каждой карте:"
   ]
  },
  {
   "cell_type": "code",
   "execution_count": 75,
   "id": "a859a752",
   "metadata": {},
   "outputs": [],
   "source": [
    "current_map = PATH_TO_BIN_FOLDER + \"000000.bin\"\n",
    "current_label_file = PATH_TO_LABEL_FOLDER + \"000000.label\""
   ]
  },
  {
   "cell_type": "code",
   "execution_count": 102,
   "id": "b63ea0ab",
   "metadata": {},
   "outputs": [],
   "source": [
    "PLANE_LIST = [ROAD_LABEL, SIDEWALK_LABEL, PARKING_LABEL, BUILDING_LABEL, TERRAIN_LABEL, FENCE_LABEL]"
   ]
  },
  {
   "cell_type": "code",
   "execution_count": 103,
   "id": "f58664f6",
   "metadata": {},
   "outputs": [],
   "source": [
    "work_with_file(current_map, current_label_file, PLANE_LIST, PATH_TO_NEW_LABEL_BINARY_FILE)"
   ]
  },
  {
   "cell_type": "markdown",
   "id": "3c61ce8a",
   "metadata": {},
   "source": [
    "### Визуально проверяю какие точки получились после \"прогона\" алгоритма"
   ]
  },
  {
   "cell_type": "code",
   "execution_count": 104,
   "id": "d656b453",
   "metadata": {},
   "outputs": [],
   "source": [
    "main_point_cloud = extract_point_cloud_from_bin_file(current_map)"
   ]
  },
  {
   "cell_type": "code",
   "execution_count": 105,
   "id": "be239012",
   "metadata": {},
   "outputs": [],
   "source": [
    "lst = check_get_indexes_from_txt_file(PATH_TO_NEW_LABEL_BINARY_FILE)"
   ]
  },
  {
   "cell_type": "code",
   "execution_count": 106,
   "id": "829bb496",
   "metadata": {},
   "outputs": [],
   "source": [
    "pc = main_point_cloud.select_by_index(lst)"
   ]
  },
  {
   "cell_type": "code",
   "execution_count": 107,
   "id": "382d3d80",
   "metadata": {},
   "outputs": [],
   "source": [
    "o3d.visualization.draw_geometries([pc])"
   ]
  }
 ],
 "metadata": {
  "kernelspec": {
   "display_name": "Python 3",
   "language": "python",
   "name": "python3"
  },
  "language_info": {
   "codemirror_mode": {
    "name": "ipython",
    "version": 3
   },
   "file_extension": ".py",
   "mimetype": "text/x-python",
   "name": "python",
   "nbconvert_exporter": "python",
   "pygments_lexer": "ipython3",
   "version": "3.6.9"
  }
 },
 "nbformat": 4,
 "nbformat_minor": 5
}
