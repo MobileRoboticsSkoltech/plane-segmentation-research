{
 "cells": [
  {
   "cell_type": "code",
   "execution_count": 146,
   "id": "4516fbc3",
   "metadata": {},
   "outputs": [],
   "source": [
    "import open3d as o3d\n",
    "import numpy as np"
   ]
  },
  {
   "cell_type": "code",
   "execution_count": 147,
   "id": "48b8e990",
   "metadata": {},
   "outputs": [],
   "source": [
    "def convert_point_cloud_to_numpy_array(point_cloud : o3d.geometry.PointCloud) -> np.ndarray:\n",
    "    return np.asarray(point_cloud.points)"
   ]
  },
  {
   "cell_type": "code",
   "execution_count": 148,
   "id": "033837bf",
   "metadata": {},
   "outputs": [],
   "source": [
    "def convert_numpy_to_point_cloud(numpy_array : np.ndarray) -> o3d.geometry.PointCloud:\n",
    "    pcd = o3d.geometry.PointCloud()\n",
    "    pcd.points = o3d.utility.Vector3dVector(numpy_array)\n",
    "    return pcd"
   ]
  },
  {
   "cell_type": "code",
   "execution_count": 149,
   "id": "3f856cd3",
   "metadata": {},
   "outputs": [],
   "source": [
    "def write_zeros_in_file(count_of_points : int, path_to_new_label_file : str):\n",
    "    with open(path_to_new_label_file, 'w') as file:\n",
    "        file.write('0\\n' * count_of_points)"
   ]
  },
  {
   "cell_type": "code",
   "execution_count": 150,
   "id": "a804776b",
   "metadata": {},
   "outputs": [],
   "source": [
    "def select_points_from_point_cloud_by_label_id(point_cloud : o3d.geometry.PointCloud, path_to_label_file : str, label_id : int) -> o3d.geometry.PointCloud:\n",
    "    labels = np.fromfile(path_to_label_file, dtype=np.uint32)\n",
    "    labels = labels.reshape((-1))\n",
    "    pcd_point_by_id = point_cloud.select_by_index(np.where(labels == label_id)[0])\n",
    "    return pcd_point_by_id"
   ]
  },
  {
   "cell_type": "code",
   "execution_count": 151,
   "id": "942afa93",
   "metadata": {},
   "outputs": [],
   "source": [
    "def segment_plane_from_point_cloud(point_cloud : o3d.geometry.PointCloud, distance : float = 0.1) -> (o3d.geometry.PointCloud, o3d.geometry.PointCloud):\n",
    "    try:\n",
    "        _, inliers = point_cloud.segment_plane(distance_threshold=distance,\n",
    "                                             ransac_n=3,\n",
    "                                             num_iterations=5000)\n",
    "    except Exception:\n",
    "        return (point_cloud, point_cloud.clear())\n",
    "    inlier_cloud = point_cloud.select_by_index(inliers)\n",
    "    inlier_cloud.paint_uniform_color([1.0, 0, 0])\n",
    "    outlier_cloud = point_cloud.select_by_index(inliers, invert=True)\n",
    "    return (inlier_cloud, outlier_cloud)"
   ]
  },
  {
   "cell_type": "code",
   "execution_count": 152,
   "id": "234010a7",
   "metadata": {},
   "outputs": [],
   "source": [
    "def extract_point_cloud_from_bin_file(path_to_bin_file : str) -> o3d.geometry.PointCloud:\n",
    "    pcd_np = np.fromfile(path_to_bin_file, dtype=np.float32).reshape(-1, 4)[:, :3]\n",
    "    pcd = o3d.geometry.PointCloud()\n",
    "    pcd.points = o3d.utility.Vector3dVector(pcd_np[:, :3])\n",
    "    return pcd"
   ]
  },
  {
   "cell_type": "code",
   "execution_count": 153,
   "id": "e05131f3",
   "metadata": {},
   "outputs": [],
   "source": [
    "def create_point_cloud_by_label_list(point_cloud : o3d.geometry.PointCloud, path_to_label_file : str, label_list : list) -> o3d.geometry.PointCloud:\n",
    "    numpy_arr = np.empty((0,3), float)\n",
    "    for label in label_list:\n",
    "        current_point_cloud = select_points_from_point_cloud_by_label_id(point_cloud, path_to_label_file, label)\n",
    "        converted_to_numpy_point_cloud = convert_point_cloud_to_numpy_array(current_point_cloud)\n",
    "        numpy_arr = np.append(numpy_arr, converted_to_numpy_point_cloud, axis=0)\n",
    "    return convert_numpy_to_point_cloud(numpy_arr)"
   ]
  },
  {
   "cell_type": "code",
   "execution_count": 154,
   "id": "ee41553c",
   "metadata": {},
   "outputs": [],
   "source": [
    "def segment_all_planes_from_point_cloud(point_cloud : o3d.geometry.PointCloud) -> list:\n",
    "    all_planes = []\n",
    "    inlier_cloud, outlier_cloud = scan_next_plane_from_point_cloud(point_cloud, 0.3)\n",
    "    while outlier_cloud.has_points():\n",
    "        all_planes.append(inlier_cloud)\n",
    "        inlier_cloud, outlier_cloud = scan_next_plane_from_point_cloud(outlier_cloud, 0.3)\n",
    "    if (inlier_cloud.has_points()): all_planes.append(inlier_cloud)\n",
    "    \n",
    "    return all_planes"
   ]
  },
  {
   "cell_type": "code",
   "execution_count": 163,
   "id": "2c5d59ff",
   "metadata": {},
   "outputs": [],
   "source": [
    "def get_indexes_of_points(main_point_cloud : np.ndarray, temp_point_cloud : np.ndarray) -> list:\n",
    "    index_list = []\n",
    "    for point in temp_point_cloud:\n",
    "        for index, main_point in enumerate(main_point_cloud):\n",
    "            if (np.allclose(point, main_point, rtol=1e-10)):\n",
    "                index_list.append(index)\n",
    "    return index_list"
   ]
  },
  {
   "cell_type": "code",
   "execution_count": 156,
   "id": "5a0641c4",
   "metadata": {},
   "outputs": [],
   "source": [
    "def write_ones_to_file_by_index(index_list : list, path_to_new_label_file : str):\n",
    "    file = open(path_to_new_label_file, 'r')\n",
    "    list_strings = f.readlines()\n",
    "    file.close()\n",
    "    for index in index_list:\n",
    "        list_strings[index] = \"1\\n\"\n",
    "    file = open(path_to_new_label_file, 'w')\n",
    "    file.writelines(list_strings)\n",
    "    file.close()"
   ]
  },
  {
   "cell_type": "code",
   "execution_count": 157,
   "id": "1e620a64",
   "metadata": {},
   "outputs": [],
   "source": [
    "def work_with_file(point_cloud : o3d.geometry.PointCloud, path_to_label_file : str, label_list : list, path_to_new_label_file : str):\n",
    "    main_point_cloud = extract_point_cloud_from_bin_file(current_map)\n",
    "    numpy_main_point_cloud = convert_point_cloud_to_numpy_array(main_point_cloud)\n",
    "    write_zeros_in_file(len(numpy_main_point_cloud), path_to_new_label_file)\n",
    "    current_point_cloud = create_point_cloud_by_label_list(main_point_cloud, path_to_label_file, PLANE_LIST)\n",
    "    planes_list = segment_all_planes_from_point_cloud(current_point_cloud)\n",
    "    \n",
    "    for plane in planes_list:\n",
    "        numpy_plane = convert_point_cloud_to_numpy_array(plane)\n",
    "        index_list = get_indexes_of_points(numpy_main_point_cloud, numpy_plane)\n",
    "        write_ones_to_file_by_index(index_list, path_to_new_label_file)"
   ]
  },
  {
   "cell_type": "code",
   "execution_count": 158,
   "id": "885f47db",
   "metadata": {},
   "outputs": [],
   "source": [
    "PATH_TO_BIN_FOLDER = \"/home/pavel/dataset/sequences/00/velodyne/\"\n",
    "PATH_TO_LABEL_FOLDER = \"/home/pavel/dataset/sequences/00/labels/\"\n",
    "PATH_TO_NEW_LABEL_BINARY_FILE = \"/home/pavel/Point-Cloud/src/label000000.txt\""
   ]
  },
  {
   "cell_type": "code",
   "execution_count": 159,
   "id": "d6a1dc9b",
   "metadata": {},
   "outputs": [],
   "source": [
    "ROAD_LABEL = 40 # - plane\n",
    "SIDEWALK_LABEL = 48 # - plane\n",
    "PARKING_LABEL = 44 # - plane\n",
    "OTHER_GROUND_LABEL = 49 # - poka xz (na pervoy .pcd ih prosto net)\n",
    "BUILDING_LABEL = 50 # - plane\n",
    "OTHER_STRUCTURE_LABEL = 52 # - not plane\n",
    "VEGETATION_LABEL = 70 # - not plane\n",
    "TRUNK_LABEL = 71 # - not plane\n",
    "TERRAIN_LABEL = 72 # - plane\n",
    "FENCE_LABEL = 51 # - plane"
   ]
  },
  {
   "cell_type": "markdown",
   "id": "80b72a77",
   "metadata": {},
   "source": [
    "### Функция должна выглядеть примерно как-то так:"
   ]
  },
  {
   "cell_type": "code",
   "execution_count": 160,
   "id": "a859a752",
   "metadata": {},
   "outputs": [],
   "source": [
    "current_map = PATH_TO_BIN_FOLDER + \"000000.bin\"\n",
    "current_label_file = PATH_TO_LABEL_FOLDER + \"000000.label\""
   ]
  },
  {
   "cell_type": "code",
   "execution_count": 161,
   "id": "b63ea0ab",
   "metadata": {},
   "outputs": [],
   "source": [
    "PLANE_LIST = [ROAD_LABEL]"
   ]
  },
  {
   "cell_type": "code",
   "execution_count": 164,
   "id": "fe0e54f1",
   "metadata": {},
   "outputs": [
    {
     "ename": "KeyboardInterrupt",
     "evalue": "",
     "output_type": "error",
     "traceback": [
      "\u001b[0;31m---------------------------------------------------------------------------\u001b[0m",
      "\u001b[0;31mKeyboardInterrupt\u001b[0m                         Traceback (most recent call last)",
      "\u001b[0;32m<ipython-input-164-afe29bf2468f>\u001b[0m in \u001b[0;36m<module>\u001b[0;34m\u001b[0m\n\u001b[0;32m----> 1\u001b[0;31m \u001b[0mwork_with_file\u001b[0m\u001b[0;34m(\u001b[0m\u001b[0mcurrent_map\u001b[0m\u001b[0;34m,\u001b[0m \u001b[0mcurrent_label_file\u001b[0m\u001b[0;34m,\u001b[0m \u001b[0mPLANE_LIST\u001b[0m\u001b[0;34m,\u001b[0m \u001b[0mPATH_TO_NEW_LABEL_BINARY_FILE\u001b[0m\u001b[0;34m)\u001b[0m\u001b[0;34m\u001b[0m\u001b[0;34m\u001b[0m\u001b[0m\n\u001b[0m",
      "\u001b[0;32m<ipython-input-157-015c12ec7196>\u001b[0m in \u001b[0;36mwork_with_file\u001b[0;34m(point_cloud, path_to_label_file, label_list, path_to_new_label_file)\u001b[0m\n\u001b[1;32m      8\u001b[0m     \u001b[0;32mfor\u001b[0m \u001b[0mplane\u001b[0m \u001b[0;32min\u001b[0m \u001b[0mplanes_list\u001b[0m\u001b[0;34m:\u001b[0m\u001b[0;34m\u001b[0m\u001b[0;34m\u001b[0m\u001b[0m\n\u001b[1;32m      9\u001b[0m         \u001b[0mnumpy_plane\u001b[0m \u001b[0;34m=\u001b[0m \u001b[0mconvert_point_cloud_to_numpy_array\u001b[0m\u001b[0;34m(\u001b[0m\u001b[0mplane\u001b[0m\u001b[0;34m)\u001b[0m\u001b[0;34m\u001b[0m\u001b[0;34m\u001b[0m\u001b[0m\n\u001b[0;32m---> 10\u001b[0;31m         \u001b[0mindex_list\u001b[0m \u001b[0;34m=\u001b[0m \u001b[0mget_indexes_of_points\u001b[0m\u001b[0;34m(\u001b[0m\u001b[0mnumpy_main_point_cloud\u001b[0m\u001b[0;34m,\u001b[0m \u001b[0mnumpy_plane\u001b[0m\u001b[0;34m)\u001b[0m\u001b[0;34m\u001b[0m\u001b[0;34m\u001b[0m\u001b[0m\n\u001b[0m\u001b[1;32m     11\u001b[0m         \u001b[0mwrite_ones_to_file_by_index\u001b[0m\u001b[0;34m(\u001b[0m\u001b[0mindex_list\u001b[0m\u001b[0;34m,\u001b[0m \u001b[0mpath_to_new_label_file\u001b[0m\u001b[0;34m)\u001b[0m\u001b[0;34m\u001b[0m\u001b[0;34m\u001b[0m\u001b[0m\n",
      "\u001b[0;32m<ipython-input-163-14529710cd5c>\u001b[0m in \u001b[0;36mget_indexes_of_points\u001b[0;34m(main_point_cloud, temp_point_cloud)\u001b[0m\n\u001b[1;32m      3\u001b[0m     \u001b[0;32mfor\u001b[0m \u001b[0mpoint\u001b[0m \u001b[0;32min\u001b[0m \u001b[0mtemp_point_cloud\u001b[0m\u001b[0;34m:\u001b[0m\u001b[0;34m\u001b[0m\u001b[0;34m\u001b[0m\u001b[0m\n\u001b[1;32m      4\u001b[0m         \u001b[0;32mfor\u001b[0m \u001b[0mindex\u001b[0m\u001b[0;34m,\u001b[0m \u001b[0mmain_point\u001b[0m \u001b[0;32min\u001b[0m \u001b[0menumerate\u001b[0m\u001b[0;34m(\u001b[0m\u001b[0mmain_point_cloud\u001b[0m\u001b[0;34m)\u001b[0m\u001b[0;34m:\u001b[0m\u001b[0;34m\u001b[0m\u001b[0;34m\u001b[0m\u001b[0m\n\u001b[0;32m----> 5\u001b[0;31m             \u001b[0;32mif\u001b[0m \u001b[0;34m(\u001b[0m\u001b[0mnp\u001b[0m\u001b[0;34m.\u001b[0m\u001b[0mallclose\u001b[0m\u001b[0;34m(\u001b[0m\u001b[0mpoint\u001b[0m\u001b[0;34m,\u001b[0m \u001b[0mmain_point\u001b[0m\u001b[0;34m,\u001b[0m \u001b[0mrtol\u001b[0m\u001b[0;34m=\u001b[0m\u001b[0;36m1e-10\u001b[0m\u001b[0;34m)\u001b[0m\u001b[0;34m)\u001b[0m\u001b[0;34m:\u001b[0m\u001b[0;34m\u001b[0m\u001b[0;34m\u001b[0m\u001b[0m\n\u001b[0m\u001b[1;32m      6\u001b[0m                 \u001b[0mindex_list\u001b[0m\u001b[0;34m.\u001b[0m\u001b[0mappend\u001b[0m\u001b[0;34m(\u001b[0m\u001b[0mindex\u001b[0m\u001b[0;34m)\u001b[0m\u001b[0;34m\u001b[0m\u001b[0;34m\u001b[0m\u001b[0m\n\u001b[1;32m      7\u001b[0m     \u001b[0;32mreturn\u001b[0m \u001b[0mindex_list\u001b[0m\u001b[0;34m\u001b[0m\u001b[0;34m\u001b[0m\u001b[0m\n",
      "\u001b[0;32m<__array_function__ internals>\u001b[0m in \u001b[0;36mallclose\u001b[0;34m(*args, **kwargs)\u001b[0m\n",
      "\u001b[0;32m~/Point-Cloud/plane-segmentation-env/lib/python3.6/site-packages/numpy/core/numeric.py\u001b[0m in \u001b[0;36mallclose\u001b[0;34m(a, b, rtol, atol, equal_nan)\u001b[0m\n\u001b[1;32m   2187\u001b[0m \u001b[0;34m\u001b[0m\u001b[0m\n\u001b[1;32m   2188\u001b[0m     \"\"\"\n\u001b[0;32m-> 2189\u001b[0;31m     \u001b[0mres\u001b[0m \u001b[0;34m=\u001b[0m \u001b[0mall\u001b[0m\u001b[0;34m(\u001b[0m\u001b[0misclose\u001b[0m\u001b[0;34m(\u001b[0m\u001b[0ma\u001b[0m\u001b[0;34m,\u001b[0m \u001b[0mb\u001b[0m\u001b[0;34m,\u001b[0m \u001b[0mrtol\u001b[0m\u001b[0;34m=\u001b[0m\u001b[0mrtol\u001b[0m\u001b[0;34m,\u001b[0m \u001b[0matol\u001b[0m\u001b[0;34m=\u001b[0m\u001b[0matol\u001b[0m\u001b[0;34m,\u001b[0m \u001b[0mequal_nan\u001b[0m\u001b[0;34m=\u001b[0m\u001b[0mequal_nan\u001b[0m\u001b[0;34m)\u001b[0m\u001b[0;34m)\u001b[0m\u001b[0;34m\u001b[0m\u001b[0;34m\u001b[0m\u001b[0m\n\u001b[0m\u001b[1;32m   2190\u001b[0m     \u001b[0;32mreturn\u001b[0m \u001b[0mbool\u001b[0m\u001b[0;34m(\u001b[0m\u001b[0mres\u001b[0m\u001b[0;34m)\u001b[0m\u001b[0;34m\u001b[0m\u001b[0;34m\u001b[0m\u001b[0m\n\u001b[1;32m   2191\u001b[0m \u001b[0;34m\u001b[0m\u001b[0m\n",
      "\u001b[0;32m<__array_function__ internals>\u001b[0m in \u001b[0;36misclose\u001b[0;34m(*args, **kwargs)\u001b[0m\n",
      "\u001b[0;32m~/Point-Cloud/plane-segmentation-env/lib/python3.6/site-packages/numpy/core/numeric.py\u001b[0m in \u001b[0;36misclose\u001b[0;34m(a, b, rtol, atol, equal_nan)\u001b[0m\n\u001b[1;32m   2288\u001b[0m     \u001b[0myfin\u001b[0m \u001b[0;34m=\u001b[0m \u001b[0misfinite\u001b[0m\u001b[0;34m(\u001b[0m\u001b[0my\u001b[0m\u001b[0;34m)\u001b[0m\u001b[0;34m\u001b[0m\u001b[0;34m\u001b[0m\u001b[0m\n\u001b[1;32m   2289\u001b[0m     \u001b[0;32mif\u001b[0m \u001b[0mall\u001b[0m\u001b[0;34m(\u001b[0m\u001b[0mxfin\u001b[0m\u001b[0;34m)\u001b[0m \u001b[0;32mand\u001b[0m \u001b[0mall\u001b[0m\u001b[0;34m(\u001b[0m\u001b[0myfin\u001b[0m\u001b[0;34m)\u001b[0m\u001b[0;34m:\u001b[0m\u001b[0;34m\u001b[0m\u001b[0;34m\u001b[0m\u001b[0m\n\u001b[0;32m-> 2290\u001b[0;31m         \u001b[0;32mreturn\u001b[0m \u001b[0mwithin_tol\u001b[0m\u001b[0;34m(\u001b[0m\u001b[0mx\u001b[0m\u001b[0;34m,\u001b[0m \u001b[0my\u001b[0m\u001b[0;34m,\u001b[0m \u001b[0matol\u001b[0m\u001b[0;34m,\u001b[0m \u001b[0mrtol\u001b[0m\u001b[0;34m)\u001b[0m\u001b[0;34m\u001b[0m\u001b[0;34m\u001b[0m\u001b[0m\n\u001b[0m\u001b[1;32m   2291\u001b[0m     \u001b[0;32melse\u001b[0m\u001b[0;34m:\u001b[0m\u001b[0;34m\u001b[0m\u001b[0;34m\u001b[0m\u001b[0m\n\u001b[1;32m   2292\u001b[0m         \u001b[0mfinite\u001b[0m \u001b[0;34m=\u001b[0m \u001b[0mxfin\u001b[0m \u001b[0;34m&\u001b[0m \u001b[0myfin\u001b[0m\u001b[0;34m\u001b[0m\u001b[0;34m\u001b[0m\u001b[0m\n",
      "\u001b[0;32m~/Point-Cloud/plane-segmentation-env/lib/python3.6/site-packages/numpy/core/numeric.py\u001b[0m in \u001b[0;36mwithin_tol\u001b[0;34m(x, y, atol, rtol)\u001b[0m\n\u001b[1;32m   2274\u001b[0m     \u001b[0;32mdef\u001b[0m \u001b[0mwithin_tol\u001b[0m\u001b[0;34m(\u001b[0m\u001b[0mx\u001b[0m\u001b[0;34m,\u001b[0m \u001b[0my\u001b[0m\u001b[0;34m,\u001b[0m \u001b[0matol\u001b[0m\u001b[0;34m,\u001b[0m \u001b[0mrtol\u001b[0m\u001b[0;34m)\u001b[0m\u001b[0;34m:\u001b[0m\u001b[0;34m\u001b[0m\u001b[0;34m\u001b[0m\u001b[0m\n\u001b[1;32m   2275\u001b[0m         \u001b[0;32mwith\u001b[0m \u001b[0merrstate\u001b[0m\u001b[0;34m(\u001b[0m\u001b[0minvalid\u001b[0m\u001b[0;34m=\u001b[0m\u001b[0;34m'ignore'\u001b[0m\u001b[0;34m)\u001b[0m\u001b[0;34m:\u001b[0m\u001b[0;34m\u001b[0m\u001b[0;34m\u001b[0m\u001b[0m\n\u001b[0;32m-> 2276\u001b[0;31m             \u001b[0;32mreturn\u001b[0m \u001b[0mless_equal\u001b[0m\u001b[0;34m(\u001b[0m\u001b[0mabs\u001b[0m\u001b[0;34m(\u001b[0m\u001b[0mx\u001b[0m\u001b[0;34m-\u001b[0m\u001b[0my\u001b[0m\u001b[0;34m)\u001b[0m\u001b[0;34m,\u001b[0m \u001b[0matol\u001b[0m \u001b[0;34m+\u001b[0m \u001b[0mrtol\u001b[0m \u001b[0;34m*\u001b[0m \u001b[0mabs\u001b[0m\u001b[0;34m(\u001b[0m\u001b[0my\u001b[0m\u001b[0;34m)\u001b[0m\u001b[0;34m)\u001b[0m\u001b[0;34m\u001b[0m\u001b[0;34m\u001b[0m\u001b[0m\n\u001b[0m\u001b[1;32m   2277\u001b[0m \u001b[0;34m\u001b[0m\u001b[0m\n\u001b[1;32m   2278\u001b[0m     \u001b[0mx\u001b[0m \u001b[0;34m=\u001b[0m \u001b[0masanyarray\u001b[0m\u001b[0;34m(\u001b[0m\u001b[0ma\u001b[0m\u001b[0;34m)\u001b[0m\u001b[0;34m\u001b[0m\u001b[0;34m\u001b[0m\u001b[0m\n",
      "\u001b[0;31mKeyboardInterrupt\u001b[0m: "
     ]
    }
   ],
   "source": [
    "work_with_file(current_map, current_label_file, PLANE_LIST, PATH_TO_NEW_LABEL_BINARY_FILE)"
   ]
  }
 ],
 "metadata": {
  "kernelspec": {
   "display_name": "Python 3",
   "language": "python",
   "name": "python3"
  },
  "language_info": {
   "codemirror_mode": {
    "name": "ipython",
    "version": 3
   },
   "file_extension": ".py",
   "mimetype": "text/x-python",
   "name": "python",
   "nbconvert_exporter": "python",
   "pygments_lexer": "ipython3",
   "version": "3.6.9"
  }
 },
 "nbformat": 4,
 "nbformat_minor": 5
}
